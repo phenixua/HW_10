{
  "nbformat": 4,
  "nbformat_minor": 0,
  "metadata": {
    "colab": {
      "provenance": [],
      "gpuType": "T4",
      "include_colab_link": true
    },
    "kernelspec": {
      "name": "python3",
      "display_name": "Python 3"
    },
    "language_info": {
      "name": "python"
    },
    "accelerator": "GPU"
  },
  "cells": [
    {
      "cell_type": "markdown",
      "metadata": {
        "id": "view-in-github",
        "colab_type": "text"
      },
      "source": [
        "<a href=\"https://colab.research.google.com/github/phenixua/HW_10/blob/main/HW_10_2.ipynb\" target=\"_parent\"><img src=\"https://colab.research.google.com/assets/colab-badge.svg\" alt=\"Open In Colab\"/></a>"
      ]
    },
    {
      "cell_type": "code",
      "source": [
        "import numpy as np\n",
        "from tensorflow.keras.datasets import fashion_mnist\n",
        "from tensorflow.keras.applications import VGG16\n",
        "from tensorflow.keras.models import Sequential\n",
        "from tensorflow.keras.layers import Dense, Flatten, Dropout\n",
        "from tensorflow.keras.optimizers import Adam\n",
        "from tensorflow.keras.utils import to_categorical\n",
        "from sklearn.model_selection import train_test_split\n",
        "from skimage.color import gray2rgb\n",
        "from tensorflow.keras.callbacks import EarlyStopping\n",
        "\n",
        "# Завантаження даних Fashion MNIST\n",
        "(x_train, y_train), (x_test, y_test) = fashion_mnist.load_data()\n",
        "\n",
        "# Зміна розміру зображень на 32x32 та перетворення в RGB\n",
        "x_train_resized = np.array([gray2rgb(np.resize(image, (32, 32))) for image in x_train])\n",
        "x_test_resized = np.array([gray2rgb(np.resize(image, (32, 32))) for image in x_test])\n",
        "\n",
        "# Перетворення міток у one-hot вектори\n",
        "y_train = to_categorical(y_train, 10)\n",
        "y_test = to_categorical(y_test, 10)\n",
        "\n",
        "# Розділення тренувального набору на тренувальний та валідаційний\n",
        "x_train, x_val, y_train, y_val = train_test_split(x_train_resized, y_train, test_size=0.1, random_state=42)\n",
        "\n",
        "# Завантаження архітектури VGG16 без верхніх повністю зв'язаних шарів\n",
        "vgg_base = VGG16(weights='imagenet', include_top=False, input_shape=(32, 32, 3))\n",
        "\n",
        "# Додавання нових шарів\n",
        "model = Sequential([\n",
        "    vgg_base,\n",
        "    Flatten(),\n",
        "    Dense(512, activation='relu'),\n",
        "    Dropout(0.5),\n",
        "    Dense(256, activation='relu'),\n",
        "    Dropout(0.5),\n",
        "    Dense(10, activation='softmax')\n",
        "])\n",
        "\n",
        "# Зняття замороження з ваг моделі VGG16\n",
        "vgg_base.trainable = True\n",
        "\n",
        "# Компіляція моделі\n",
        "model.compile(optimizer=Adam(learning_rate=0.0001), loss='categorical_crossentropy', metrics=['accuracy'])\n",
        "\n",
        "# Виведення інформації про модель\n",
        "model.summary()\n",
        "\n",
        "# Додавання ранньої зупинки\n",
        "early_stopping = EarlyStopping(monitor='val_loss', patience=5)\n",
        "\n",
        "# Навчання моделі\n",
        "history = model.fit(x_train, y_train, epochs=30, batch_size=128, validation_data=(x_val, y_val), callbacks=[early_stopping])\n",
        "\n",
        "# Оцінка точності на тестових даних\n",
        "test_loss, test_acc = model.evaluate(x_test_resized, y_test)\n",
        "print(f'Test accuracy: {test_acc}')\n"
      ],
      "metadata": {
        "colab": {
          "base_uri": "https://localhost:8080/"
        },
        "id": "ogYdPG9Ujc88",
        "outputId": "cbd1353e-d49d-41b7-93b5-cb307581bee4"
      },
      "execution_count": 5,
      "outputs": [
        {
          "output_type": "stream",
          "name": "stdout",
          "text": [
            "Model: \"sequential_4\"\n",
            "_________________________________________________________________\n",
            " Layer (type)                Output Shape              Param #   \n",
            "=================================================================\n",
            " vgg16 (Functional)          (None, 1, 1, 512)         14714688  \n",
            "                                                                 \n",
            " flatten_4 (Flatten)         (None, 512)               0         \n",
            "                                                                 \n",
            " dense_12 (Dense)            (None, 512)               262656    \n",
            "                                                                 \n",
            " dropout_8 (Dropout)         (None, 512)               0         \n",
            "                                                                 \n",
            " dense_13 (Dense)            (None, 256)               131328    \n",
            "                                                                 \n",
            " dropout_9 (Dropout)         (None, 256)               0         \n",
            "                                                                 \n",
            " dense_14 (Dense)            (None, 10)                2570      \n",
            "                                                                 \n",
            "=================================================================\n",
            "Total params: 15111242 (57.64 MB)\n",
            "Trainable params: 15111242 (57.64 MB)\n",
            "Non-trainable params: 0 (0.00 Byte)\n",
            "_________________________________________________________________\n",
            "Epoch 1/30\n",
            "422/422 [==============================] - 29s 58ms/step - loss: 2.0214 - accuracy: 0.3039 - val_loss: 1.4967 - val_accuracy: 0.4613\n",
            "Epoch 2/30\n",
            "422/422 [==============================] - 24s 58ms/step - loss: 1.4273 - accuracy: 0.4662 - val_loss: 1.3478 - val_accuracy: 0.4663\n",
            "Epoch 3/30\n",
            "422/422 [==============================] - 24s 57ms/step - loss: 1.2725 - accuracy: 0.4768 - val_loss: 1.2177 - val_accuracy: 0.4738\n",
            "Epoch 4/30\n",
            "422/422 [==============================] - 23s 55ms/step - loss: 1.1955 - accuracy: 0.4825 - val_loss: 1.1747 - val_accuracy: 0.4862\n",
            "Epoch 5/30\n",
            "422/422 [==============================] - 24s 57ms/step - loss: 0.9660 - accuracy: 0.6034 - val_loss: 0.5906 - val_accuracy: 0.8262\n",
            "Epoch 6/30\n",
            "422/422 [==============================] - 24s 58ms/step - loss: 0.5008 - accuracy: 0.8431 - val_loss: 0.4128 - val_accuracy: 0.8558\n",
            "Epoch 7/30\n",
            "422/422 [==============================] - 24s 56ms/step - loss: 0.3768 - accuracy: 0.8737 - val_loss: 0.3618 - val_accuracy: 0.8708\n",
            "Epoch 8/30\n",
            "422/422 [==============================] - 24s 58ms/step - loss: 0.3235 - accuracy: 0.8896 - val_loss: 0.3499 - val_accuracy: 0.8805\n",
            "Epoch 9/30\n",
            "422/422 [==============================] - 24s 56ms/step - loss: 0.2893 - accuracy: 0.9014 - val_loss: 0.3172 - val_accuracy: 0.8898\n",
            "Epoch 10/30\n",
            "422/422 [==============================] - 24s 58ms/step - loss: 0.2589 - accuracy: 0.9103 - val_loss: 0.3200 - val_accuracy: 0.8942\n",
            "Epoch 11/30\n",
            "422/422 [==============================] - 24s 57ms/step - loss: 0.2326 - accuracy: 0.9185 - val_loss: 0.2915 - val_accuracy: 0.9005\n",
            "Epoch 12/30\n",
            "422/422 [==============================] - 24s 57ms/step - loss: 0.2051 - accuracy: 0.9280 - val_loss: 0.3197 - val_accuracy: 0.8928\n",
            "Epoch 13/30\n",
            "422/422 [==============================] - 24s 58ms/step - loss: 0.1957 - accuracy: 0.9322 - val_loss: 0.3123 - val_accuracy: 0.8970\n",
            "Epoch 14/30\n",
            "422/422 [==============================] - 24s 56ms/step - loss: 0.1653 - accuracy: 0.9414 - val_loss: 0.3728 - val_accuracy: 0.8863\n",
            "Epoch 15/30\n",
            "422/422 [==============================] - 24s 58ms/step - loss: 0.1567 - accuracy: 0.9460 - val_loss: 0.3461 - val_accuracy: 0.8972\n",
            "Epoch 16/30\n",
            "422/422 [==============================] - 24s 58ms/step - loss: 0.1334 - accuracy: 0.9534 - val_loss: 0.3486 - val_accuracy: 0.8903\n",
            "313/313 [==============================] - 3s 8ms/step - loss: 0.3782 - accuracy: 0.8915\n",
            "Test accuracy: 0.8914999961853027\n"
          ]
        }
      ]
    },
    {
      "cell_type": "markdown",
      "source": [
        "Точність отриманої згорткової мережі з точністю багатошарової мережі майже однакові.\n",
        "У випадку порівняння між цими двома моделями, багатошарова нейронна мережа має дещо кращу точність, але згорткова мережа може бути більш ефективною з точки зору ресурсів та складності моделі."
      ],
      "metadata": {
        "id": "VG0wJC4j38Kr"
      }
    }
  ]
}